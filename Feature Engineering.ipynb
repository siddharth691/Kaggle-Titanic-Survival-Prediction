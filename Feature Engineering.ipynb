{
 "cells": [
  {
   "cell_type": "code",
   "execution_count": 460,
   "metadata": {
    "collapsed": true
   },
   "outputs": [],
   "source": [
    "import csv as csv\n",
    "import numpy as np\n",
    "import pandas as pd\n",
    "from sklearn.svm import SVC\n",
    "from sklearn import preprocessing\n",
    "from sklearn.metrics import accuracy_score\n",
    "from sklearn.ensemble import RandomForestClassifier\n",
    "from sklearn.ensemble import ExtraTreesClassifier\n",
    "from sklearn.model_selection import learning_curve\n",
    "from sklearn.model_selection import validation_curve\n",
    "from sklearn.model_selection import KFold\n",
    "from sklearn.model_selection import cross_val_score\n",
    "from sklearn.model_selection import GridSearchCV\n",
    "import matplotlib.pyplot as plt\n",
    "from time import time"
   ]
  },
  {
   "cell_type": "code",
   "execution_count": 461,
   "metadata": {
    "collapsed": false
   },
   "outputs": [
    {
     "name": "stdout",
     "output_type": "stream",
     "text": [
      "(891, 12)\n",
      "(418, 11)\n",
      "(1309, 11)\n"
     ]
    }
   ],
   "source": [
    "train = pd.read_csv('train.csv',header=0)\n",
    "test = pd.read_csv('test.csv',header = 0)\n",
    "dfPred = pd.DataFrame()\n",
    "dfPred['PassengerId'] = test.PassengerId\n",
    "targets = train.Survived\n",
    "combined = train.drop('Survived',axis=1).append(test)\n",
    "combined.reset_index(inplace = True, drop =True)\n",
    "print (train.shape)\n",
    "print (test.shape)\n",
    "print (combined.shape)"
   ]
  },
  {
   "cell_type": "code",
   "execution_count": 462,
   "metadata": {
    "collapsed": false
   },
   "outputs": [
    {
     "name": "stdout",
     "output_type": "stream",
     "text": [
      "<class 'pandas.core.frame.DataFrame'>\n",
      "RangeIndex: 1309 entries, 0 to 1308\n",
      "Data columns (total 11 columns):\n",
      "PassengerId    1309 non-null int64\n",
      "Pclass         1309 non-null int64\n",
      "Name           1309 non-null object\n",
      "Sex            1309 non-null object\n",
      "Age            1046 non-null float64\n",
      "SibSp          1309 non-null int64\n",
      "Parch          1309 non-null int64\n",
      "Ticket         1309 non-null object\n",
      "Fare           1308 non-null float64\n",
      "Cabin          295 non-null object\n",
      "Embarked       1307 non-null object\n",
      "dtypes: float64(2), int64(4), object(5)\n",
      "memory usage: 112.6+ KB\n"
     ]
    }
   ],
   "source": [
    "combined.info()"
   ]
  },
  {
   "cell_type": "code",
   "execution_count": 463,
   "metadata": {
    "collapsed": false
   },
   "outputs": [],
   "source": [
    "# Replacing 'Sex' with 'Gender' and dropping 'PassengerId' and 'Ticket'\n",
    "combined['Gender'] = 0\n",
    "combined['Gender'] = combined.Sex.map({'male':1,'female':0})\n",
    "combined = combined.drop(['Sex'],axis=1)\n",
    "combined = combined.drop(['Ticket','PassengerId'],axis=1)\n"
   ]
  },
  {
   "cell_type": "code",
   "execution_count": 464,
   "metadata": {
    "collapsed": true
   },
   "outputs": [],
   "source": [
    "# Creating a new column Title instead of name and mapping it to Title Dictionary\n",
    "combined['Title'] = combined.Name.map(lambda name: name.split(',')[1].split('.')[0].strip())\n",
    "Title_Dictionary = {\n",
    "                        \"Capt\":       \"Officer\",\n",
    "                        \"Col\":        \"Officer\",\n",
    "                        \"Major\":      \"Officer\",\n",
    "                        \"Jonkheer\":   \"Royalty\",\n",
    "                        \"Don\":        \"Royalty\",\n",
    "                        \"Sir\" :       \"Royalty\",\n",
    "                        \"Dr\":         \"Officer\",\n",
    "                        \"Rev\":        \"Officer\",\n",
    "                        \"the Countess\":\"Royalty\",\n",
    "                        \"Dona\":       \"Royalty\",\n",
    "                        \"Mme\":        \"Mrs\",\n",
    "                        \"Mlle\":       \"Miss\",\n",
    "                        \"Ms\":         \"Mrs\",\n",
    "                        \"Mr\" :        \"Mr\",\n",
    "                        \"Mrs\" :       \"Mrs\",\n",
    "                        \"Miss\" :      \"Miss\",\n",
    "                        \"Master\" :    \"Master\",\n",
    "                        \"Lady\" :      \"Royalty\"\n",
    "\n",
    "                        }\n",
    "combined['Title'] = combined.Title.map(Title_Dictionary)\n",
    "combined = combined.drop(['Name'], axis =1)"
   ]
  },
  {
   "cell_type": "code",
   "execution_count": 465,
   "metadata": {
    "collapsed": true
   },
   "outputs": [],
   "source": [
    "# Replacing Parch and SibSp with Family\n",
    "combined['Family'] = combined['SibSp']+ combined['Parch']\n",
    "combined = combined.drop(['Parch','SibSp'],axis =1)"
   ]
  },
  {
   "cell_type": "code",
   "execution_count": 466,
   "metadata": {
    "collapsed": false
   },
   "outputs": [],
   "source": [
    "# Replacing 'Cabin' with 'NewCabin' having only first character of 'Cabin'\n",
    "combined['NewCabin'] = combined['Cabin'].str[0]\n",
    "combined = combined.drop(['Cabin'],axis = 1)"
   ]
  },
  {
   "cell_type": "code",
   "execution_count": 467,
   "metadata": {
    "collapsed": false
   },
   "outputs": [],
   "source": [
    "#Added FillAge instead of Age and filled age based on median age values\n",
    "def fillAges(row):\n",
    "        if row['Gender']== 0 and row['Pclass'] == 1:\n",
    "            if row['Title'] == 'Miss':\n",
    "                return 30\n",
    "            elif row['Title'] == 'Mrs':\n",
    "                return 45\n",
    "            elif row['Title'] == 'Officer':\n",
    "                return 49\n",
    "            elif row['Title'] == 'Royalty':\n",
    "                return 39\n",
    "\n",
    "        elif row['Gender']== 0 and row['Pclass'] == 2:\n",
    "            if row['Title'] == 'Miss':\n",
    "                return 20\n",
    "            elif row['Title'] == 'Mrs':\n",
    "                return 30\n",
    "\n",
    "        elif row['Gender']==0 and row['Pclass'] == 3:\n",
    "            if row['Title'] == 'Miss':\n",
    "                return 18\n",
    "            elif row['Title'] == 'Mrs':\n",
    "                return 31\n",
    "\n",
    "        elif row['Gender']==1 and row['Pclass'] == 1:\n",
    "            if row['Title'] == 'Master':\n",
    "                return 6\n",
    "            elif row['Title'] == 'Mr':\n",
    "                return 41.5\n",
    "            elif row['Title'] == 'Officer':\n",
    "                return 52\n",
    "            elif row['Title'] == 'Royalty':\n",
    "                return 40\n",
    "\n",
    "        elif row['Gender']==1 and row['Pclass'] == 2:\n",
    "            if row['Title'] == 'Master':\n",
    "                return 2\n",
    "            elif row['Title'] == 'Mr':\n",
    "                return 30\n",
    "            elif row['Title'] == 'Officer':\n",
    "                return 41.5\n",
    "\n",
    "        elif row['Gender']==1 and row['Pclass'] == 3:\n",
    "            if row['Title'] == 'Master':\n",
    "                return 6\n",
    "            elif row['Title'] == 'Mr':\n",
    "                return 26\n",
    "combined['AgeFill'] = combined.apply(lambda row: fillAges(row) if np.isnan(row['Age']) else row['Age'], axis=1)\n",
    "combined = combined.drop(['Age'],axis=1)"
   ]
  },
  {
   "cell_type": "code",
   "execution_count": 468,
   "metadata": {
    "collapsed": true
   },
   "outputs": [],
   "source": [
    "# Assigning C embarkment values to 62nd and 830th passenger based on box plot (relationship b/w Fare class and Embarkment)\n",
    "combined.loc[61,'Embarked'] = 'C'\n",
    "combined.loc[829,'Embarked'] = 'C'"
   ]
  },
  {
   "cell_type": "code",
   "execution_count": 469,
   "metadata": {
    "collapsed": true
   },
   "outputs": [],
   "source": [
    "# Adding missing fare of 1044th passenger using median values of class, Embarkment and Gender\n",
    "combined.loc[1043,'Fare'] = 8.05"
   ]
  },
  {
   "cell_type": "code",
   "execution_count": 470,
   "metadata": {
    "collapsed": true
   },
   "outputs": [],
   "source": [
    "#Removing NewCabin\n",
    "combined = combined.drop(['NewCabin'],axis=1)"
   ]
  },
  {
   "cell_type": "code",
   "execution_count": 471,
   "metadata": {
    "collapsed": true
   },
   "outputs": [],
   "source": [
    "# Adding Dummy Variables\n",
    "#Pclass\n",
    "class_dummy = pd.get_dummies(combined.Pclass, prefix = 'Class')\n",
    "combined = pd.concat([combined, class_dummy],axis=1)\n",
    "combined.drop(['Pclass'],axis=1,inplace=True)\n",
    "#Title\n",
    "title_dummy = pd.get_dummies(combined.Title, prefix = 'Title')\n",
    "combined = pd.concat([combined,title_dummy],axis=1)\n",
    "combined.drop(['Title'],axis = 1, inplace = True)\n",
    "#Gender\n",
    "gender_dummy = pd.get_dummies(combined.Gender, prefix = 'Gender')\n",
    "combined = pd.concat([combined,gender_dummy],axis=1)\n",
    "combined.drop(['Gender'],axis = 1, inplace = True)\n",
    "#Embarked\n",
    "embarked_dummy = pd.get_dummies(combined.Embarked, prefix = 'Embarked')\n",
    "combined = pd.concat([combined, embarked_dummy], axis=1)\n",
    "combined.drop(['Embarked'],axis=1, inplace =True)\n",
    "#Family\n",
    "combined['Singleton'] = combined['Family'].map(lambda s : 1 if s == 1 else 0)\n",
    "combined['SmallFamily'] = combined['Family'].map(lambda s : 1 if 2<=s<=4 else 0)\n",
    "combined['LargeFamily'] = combined['Family'].map(lambda s : 1 if 5<=s else 0)\n",
    "combined.drop(['Family'],axis=1, inplace =True)\n",
    "\n",
    "#Age\n",
    "combined['Young'] = combined['AgeFill'].map(lambda s: 1 if 0<=s<=10 else 0)\n",
    "combined['YoungAdults'] = combined['AgeFill'].map(lambda s: 1 if 11<=s<=25 else 0)\n",
    "combined['WorkingAge'] = combined['AgeFill'].map(lambda s: 1 if 26<=s<=50 else 0)\n",
    "combined['OldAge'] = combined['AgeFill'].map(lambda s: 1 if s>=51 else 0)\n",
    "combined.drop(['AgeFill'], axis =1 , inplace = True)\n",
    "\n",
    "#Fare\n",
    "combined['CheapFare'] = combined['Fare'].map(lambda s: 1 if 0<=s<=50 else 0)\n",
    "combined['MediumFare'] = combined['Fare'].map(lambda s: 1 if 51<=s<=250 else 0)\n",
    "combined['ExpensiveFare'] = combined['Fare'].map(lambda s: 1 if s>=251 else 0)\n",
    "combined.drop(['Fare'], axis =1 , inplace = True)"
   ]
  },
  {
   "cell_type": "code",
   "execution_count": 472,
   "metadata": {
    "collapsed": false
   },
   "outputs": [],
   "source": [
    "# Removing less important features based on feature importance\n",
    "combined.drop(['Title_Royalty', 'Title_Officer', 'ExpensiveFare'], axis =1, inplace = True)"
   ]
  },
  {
   "cell_type": "code",
   "execution_count": 473,
   "metadata": {
    "collapsed": false,
    "scrolled": true
   },
   "outputs": [
    {
     "name": "stdout",
     "output_type": "stream",
     "text": [
      "<class 'pandas.core.frame.DataFrame'>\n",
      "RangeIndex: 1309 entries, 0 to 1308\n",
      "Data columns (total 21 columns):\n",
      "Class_1         1309 non-null float64\n",
      "Class_2         1309 non-null float64\n",
      "Class_3         1309 non-null float64\n",
      "Title_Master    1309 non-null float64\n",
      "Title_Miss      1309 non-null float64\n",
      "Title_Mr        1309 non-null float64\n",
      "Title_Mrs       1309 non-null float64\n",
      "Gender_0        1309 non-null float64\n",
      "Gender_1        1309 non-null float64\n",
      "Embarked_C      1309 non-null float64\n",
      "Embarked_Q      1309 non-null float64\n",
      "Embarked_S      1309 non-null float64\n",
      "Singleton       1309 non-null int64\n",
      "SmallFamily     1309 non-null int64\n",
      "LargeFamily     1309 non-null int64\n",
      "Young           1309 non-null int64\n",
      "YoungAdults     1309 non-null int64\n",
      "WorkingAge      1309 non-null int64\n",
      "OldAge          1309 non-null int64\n",
      "CheapFare       1309 non-null int64\n",
      "MediumFare      1309 non-null int64\n",
      "dtypes: float64(12), int64(9)\n",
      "memory usage: 214.8 KB\n"
     ]
    }
   ],
   "source": [
    "combined.info()"
   ]
  },
  {
   "cell_type": "code",
   "execution_count": 474,
   "metadata": {
    "collapsed": false
   },
   "outputs": [
    {
     "name": "stdout",
     "output_type": "stream",
     "text": [
      "(891, 22)\n",
      "(418, 21)\n"
     ]
    }
   ],
   "source": [
    "#Recovering Train and test dataframe using Updated Combined dataframe\n",
    "train = combined.loc[0:890,:]\n",
    "test = combined.loc[891:1308,:]\n",
    "train = pd.concat([train,targets],axis =1)\n",
    "print(train.shape)\n",
    "print (test.shape)"
   ]
  },
  {
   "cell_type": "code",
   "execution_count": 443,
   "metadata": {
    "collapsed": false
   },
   "outputs": [],
   "source": [
    "#Checking Relationship between Median Age, Gender, Class and Title\n",
    "# GroupedAge = combined.groupby(['Gender','Pclass','Title'])\n",
    "# GroupedAge.median()"
   ]
  },
  {
   "cell_type": "code",
   "execution_count": 444,
   "metadata": {
    "collapsed": false
   },
   "outputs": [],
   "source": [
    "#Relationship between embarkment, Fare, and Class using Box Plot\n",
    "# FareSC1 = combined[(combined['Embarked']=='S')&(combined['Pclass']==1)].Fare\n",
    "# FareSC2 = combined[(combined['Embarked']=='S')&(combined['Pclass']==2)].Fare\n",
    "# FareSC3 = combined[(combined['Embarked']=='S')&(combined['Pclass']==3)].Fare\n",
    "# FareCC1 = combined[(combined['Embarked']=='C')&(combined['Pclass']==1)].Fare\n",
    "# FareCC2 = combined[(combined['Embarked']=='C')&(combined['Pclass']==2)].Fare\n",
    "# FareCC3 = combined[(combined['Embarked']=='C')&(combined['Pclass']==3)].Fare\n",
    "# FareQC1 = combined[(combined['Embarked']=='Q')&(combined['Pclass']==1)].Fare\n",
    "# FareQC2 = combined[(combined['Embarked']=='Q')&(combined['Pclass']==2)].Fare\n",
    "# FareQC3 = combined[(combined['Embarked']=='Q')&(combined['Pclass']==3)].Fare\n",
    "# EmbFareClass = pd.concat([FareSC1, FareSC2, FareSC3, FareCC1,FareCC2, FareCC3, FareQC1, FareQC2, FareQC3],keys = ['S1','S2','S3','C1','C2','C3','Q1','Q2','Q3'], axis =1)\n",
    "# EmbFareClass.plot(kind ='box')\n",
    "# plt.show()\n",
    "#Passenger 62 and 830 has missing Embarked values\n",
    "#Assigning missing values of embarked with respect to closest median value\n",
    "# print ('Class Values of 62nd and 830th passenger : ',combined.loc[61].Pclass, 'and', combined.loc[829].Pclass)\n",
    "# print ('Fare Values of 62nd and 830th passenger : ', combined.loc[61].Fare, 'and', combined.loc[829].Fare)\n",
    "#As class values and fare values are 80 and 80, we assign C embarkment values to both these passengers"
   ]
  },
  {
   "cell_type": "code",
   "execution_count": 445,
   "metadata": {
    "collapsed": false
   },
   "outputs": [],
   "source": [
    "#Relationship between Fare, Class, Embarkment and Gender\n",
    "# GroupedFare = combined.groupby(['Gender','Pclass','Embarked'])\n",
    "# print (combined.loc[1043,:])\n",
    "# GroupedFare.median()"
   ]
  },
  {
   "cell_type": "code",
   "execution_count": 446,
   "metadata": {
    "collapsed": false
   },
   "outputs": [],
   "source": [
    "# plt.figure(1)\n",
    "# plt.hist([train[(train['Survived']==0)].AgeFill, train[(train['Survived']==1)].AgeFill], stacked =True, label =['Dead','Survived'])\n",
    "# plt.legend()\n",
    "# plt.xlabel('Age')\n",
    "# plt.ylabel('Dead/Survived')\n",
    "# plt.show()\n",
    "#People with Age less than 10 years are more likely to survive"
   ]
  },
  {
   "cell_type": "code",
   "execution_count": 447,
   "metadata": {
    "collapsed": false
   },
   "outputs": [],
   "source": [
    "# plt.figure(2)\n",
    "# plt.hist([train[train['Survived']==0].Gender, train[train['Survived']==1].Gender], stacked=False,label=['Dead','Survived'])\n",
    "# plt.legend()\n",
    "# plt.xlabel('Gender')\n",
    "# plt.ylabel('Dead/Survived')\n",
    "# plt.show()\n",
    "#Females are more likely to survive"
   ]
  },
  {
   "cell_type": "code",
   "execution_count": 448,
   "metadata": {
    "collapsed": false,
    "scrolled": true
   },
   "outputs": [],
   "source": [
    "# plt.figure(3)\n",
    "# plt.hist([train[train['Survived']==0].Fare, train[train['Survived']==1].Fare], stacked=True,label=['Dead','Survived'])\n",
    "# plt.legend()\n",
    "# plt.xlabel('Fare')\n",
    "# plt.ylabel('Dead/Survived')\n",
    "# plt.show()\n",
    "#People with fare between 50 and 250 dollars are more likely to survive"
   ]
  },
  {
   "cell_type": "code",
   "execution_count": 449,
   "metadata": {
    "collapsed": false
   },
   "outputs": [],
   "source": [
    "# plt.figure(6)\n",
    "# plt.hist([train[train['Survived']==0].Family, train[train['Survived']==1].Family], stacked=True,label=['Dead','Survived'])\n",
    "# plt.legend()\n",
    "# plt.xlabel('Total No. of family members')\n",
    "# plt.ylabel('Dead/Survived')\n",
    "# plt.show()\n",
    "# People with family size of 1-3 are more likely to survive"
   ]
  },
  {
   "cell_type": "code",
   "execution_count": 450,
   "metadata": {
    "collapsed": false,
    "scrolled": true
   },
   "outputs": [],
   "source": [
    "# plt.figure(7)\n",
    "# plt.hist([train[train['Survived']==0].Pclass, train[train['Survived']==1].Pclass], stacked=False,label=['Dead','Survived'])\n",
    "# plt.legend()\n",
    "# plt.xlabel('Class')\n",
    "# plt.ylabel('Dead/Survived')\n",
    "# plt.show()\n",
    "#People of first class are more likely to survive"
   ]
  },
  {
   "cell_type": "code",
   "execution_count": 451,
   "metadata": {
    "collapsed": false
   },
   "outputs": [],
   "source": [
    "# Embarked_Dead = train[train['Survived']==0].Embarked.value_counts()\n",
    "# Embarked_Survived = train[train['Survived']==1].Embarked.value_counts()\n",
    "# EmbarkedData = pd.DataFrame([Embarked_Dead, Embarked_Survived])\n",
    "# EmbarkedData.index = ['Dead','Survived']\n",
    "# EmbarkedData.transpose().plot(kind = 'bar', stacked =True)\n",
    "# plt.xlabel('Embarked Area')\n",
    "# plt.ylabel('Dead/Survived')\n",
    "# plt.show()\n",
    "# print (EmbarkedData.transpose())\n",
    "# #People with Embarked area C or 2 are more likely to survive"
   ]
  },
  {
   "cell_type": "code",
   "execution_count": 452,
   "metadata": {
    "collapsed": false
   },
   "outputs": [],
   "source": [
    "#Relationship between Title and Survival\n",
    "# TitleDead = train.loc[train.Survived == 0,'Title'].value_counts()\n",
    "# TitleSurvived = train.loc[train.Survived == 1, 'Title'].value_counts()\n",
    "# TitleData = pd.DataFrame([TitleDead, TitleSurvived], index = ['Dead','Survived'])\n",
    "# TitleData.transpose().plot(kind = 'bar',stacked =True)\n",
    "# plt.show()\n",
    "# print (TitleDict)\n",
    "# TitleData"
   ]
  },
  {
   "cell_type": "code",
   "execution_count": 453,
   "metadata": {
    "collapsed": false
   },
   "outputs": [],
   "source": [
    "#Passenger 1044nd has missing Fare value\n",
    "# To fill we need to find relationship between class, embarkment and fair\n",
    "# For that we would refer to box plot shown above\n",
    "# For calculating this passengers fair\n",
    "# we need to find median fair for S embarkment, class 3 which is approx 7 units"
   ]
  },
  {
   "cell_type": "code",
   "execution_count": 475,
   "metadata": {
    "collapsed": false
   },
   "outputs": [],
   "source": [
    "#Classification\n",
    "train = train.drop(['Survived'],axis=1)\n",
    "\n",
    "FeatureImp = pd.DataFrame()\n",
    "FeatureImp['Feature'] = train.columns\n",
    "\n",
    "## Scaling and Normalizing features\n",
    "train = preprocessing.scale(train)\n",
    "test = preprocessing.scale(test)\n",
    "\n",
    "##Classification and Prediction\n",
    "clf  = ExtraTreesClassifier()\n"
   ]
  },
  {
   "cell_type": "code",
   "execution_count": 476,
   "metadata": {
    "collapsed": false
   },
   "outputs": [
    {
     "name": "stdout",
     "output_type": "stream",
     "text": [
      "Best score: 0.8204264870931538\n",
      "Best parameters: {'n_estimators': 230, 'criterion': 'gini', 'max_depth': 7}\n"
     ]
    }
   ],
   "source": [
    "# Grid Search \n",
    "parameter_grid = {\n",
    "                 'n_estimators' : [200, 210, 230, 240, 300, 500],\n",
    "                 'criterion': ('gini','entropy'),\n",
    "                 'max_depth': [4,5,6,7,9,10]\n",
    "                 }\n",
    "grid_search = GridSearchCV(clf, param_grid=parameter_grid, cv=5)\n",
    "grid_search.fit(train, targets)\n",
    "print('Best score: {}'.format(grid_search.best_score_))\n",
    "print('Best parameters: {}'.format(grid_search.best_params_))"
   ]
  },
  {
   "cell_type": "code",
   "execution_count": 477,
   "metadata": {
    "collapsed": false,
    "scrolled": true
   },
   "outputs": [
    {
     "name": "stdout",
     "output_type": "stream",
     "text": [
      "Training Accuracy:  0.85746352413\n"
     ]
    }
   ],
   "source": [
    "## Training Accuracy\n",
    "clf  = ExtraTreesClassifier(n_estimators = 230, criterion = 'gini', max_depth =7)\n",
    "clf.fit(train, targets)\n",
    "print ('Training Accuracy: ', accuracy_score(targets, clf.predict(train)))"
   ]
  },
  {
   "cell_type": "code",
   "execution_count": 478,
   "metadata": {
    "collapsed": false,
    "scrolled": true
   },
   "outputs": [
    {
     "name": "stderr",
     "output_type": "stream",
     "text": [
      "C:\\Program Files\\Anaconda3\\lib\\site-packages\\ipykernel\\__main__.py:3: FutureWarning: sort(columns=....) is deprecated, use sort_values(by=.....)\n",
      "  app.launch_new_instance()\n"
     ]
    },
    {
     "data": {
      "text/html": [
       "<div>\n",
       "<table border=\"1\" class=\"dataframe\">\n",
       "  <thead>\n",
       "    <tr style=\"text-align: right;\">\n",
       "      <th></th>\n",
       "      <th>Feature</th>\n",
       "      <th>Importance</th>\n",
       "    </tr>\n",
       "  </thead>\n",
       "  <tbody>\n",
       "    <tr>\n",
       "      <th>5</th>\n",
       "      <td>Title_Mr</td>\n",
       "      <td>0.172019</td>\n",
       "    </tr>\n",
       "    <tr>\n",
       "      <th>8</th>\n",
       "      <td>Gender_1</td>\n",
       "      <td>0.165204</td>\n",
       "    </tr>\n",
       "    <tr>\n",
       "      <th>7</th>\n",
       "      <td>Gender_0</td>\n",
       "      <td>0.154134</td>\n",
       "    </tr>\n",
       "    <tr>\n",
       "      <th>2</th>\n",
       "      <td>Class_3</td>\n",
       "      <td>0.079560</td>\n",
       "    </tr>\n",
       "    <tr>\n",
       "      <th>6</th>\n",
       "      <td>Title_Mrs</td>\n",
       "      <td>0.049981</td>\n",
       "    </tr>\n",
       "    <tr>\n",
       "      <th>0</th>\n",
       "      <td>Class_1</td>\n",
       "      <td>0.048513</td>\n",
       "    </tr>\n",
       "    <tr>\n",
       "      <th>4</th>\n",
       "      <td>Title_Miss</td>\n",
       "      <td>0.044230</td>\n",
       "    </tr>\n",
       "    <tr>\n",
       "      <th>14</th>\n",
       "      <td>LargeFamily</td>\n",
       "      <td>0.038409</td>\n",
       "    </tr>\n",
       "    <tr>\n",
       "      <th>19</th>\n",
       "      <td>CheapFare</td>\n",
       "      <td>0.034717</td>\n",
       "    </tr>\n",
       "    <tr>\n",
       "      <th>1</th>\n",
       "      <td>Class_2</td>\n",
       "      <td>0.032901</td>\n",
       "    </tr>\n",
       "    <tr>\n",
       "      <th>13</th>\n",
       "      <td>SmallFamily</td>\n",
       "      <td>0.026895</td>\n",
       "    </tr>\n",
       "    <tr>\n",
       "      <th>3</th>\n",
       "      <td>Title_Master</td>\n",
       "      <td>0.023131</td>\n",
       "    </tr>\n",
       "    <tr>\n",
       "      <th>15</th>\n",
       "      <td>Young</td>\n",
       "      <td>0.022078</td>\n",
       "    </tr>\n",
       "    <tr>\n",
       "      <th>20</th>\n",
       "      <td>MediumFare</td>\n",
       "      <td>0.021392</td>\n",
       "    </tr>\n",
       "    <tr>\n",
       "      <th>11</th>\n",
       "      <td>Embarked_S</td>\n",
       "      <td>0.017859</td>\n",
       "    </tr>\n",
       "    <tr>\n",
       "      <th>9</th>\n",
       "      <td>Embarked_C</td>\n",
       "      <td>0.014461</td>\n",
       "    </tr>\n",
       "    <tr>\n",
       "      <th>17</th>\n",
       "      <td>WorkingAge</td>\n",
       "      <td>0.012252</td>\n",
       "    </tr>\n",
       "    <tr>\n",
       "      <th>12</th>\n",
       "      <td>Singleton</td>\n",
       "      <td>0.011881</td>\n",
       "    </tr>\n",
       "    <tr>\n",
       "      <th>10</th>\n",
       "      <td>Embarked_Q</td>\n",
       "      <td>0.011634</td>\n",
       "    </tr>\n",
       "    <tr>\n",
       "      <th>16</th>\n",
       "      <td>YoungAdults</td>\n",
       "      <td>0.009752</td>\n",
       "    </tr>\n",
       "    <tr>\n",
       "      <th>18</th>\n",
       "      <td>OldAge</td>\n",
       "      <td>0.008997</td>\n",
       "    </tr>\n",
       "  </tbody>\n",
       "</table>\n",
       "</div>"
      ],
      "text/plain": [
       "         Feature  Importance\n",
       "5       Title_Mr    0.172019\n",
       "8       Gender_1    0.165204\n",
       "7       Gender_0    0.154134\n",
       "2        Class_3    0.079560\n",
       "6      Title_Mrs    0.049981\n",
       "0        Class_1    0.048513\n",
       "4     Title_Miss    0.044230\n",
       "14   LargeFamily    0.038409\n",
       "19     CheapFare    0.034717\n",
       "1        Class_2    0.032901\n",
       "13   SmallFamily    0.026895\n",
       "3   Title_Master    0.023131\n",
       "15         Young    0.022078\n",
       "20    MediumFare    0.021392\n",
       "11    Embarked_S    0.017859\n",
       "9     Embarked_C    0.014461\n",
       "17    WorkingAge    0.012252\n",
       "12     Singleton    0.011881\n",
       "10    Embarked_Q    0.011634\n",
       "16   YoungAdults    0.009752\n",
       "18        OldAge    0.008997"
      ]
     },
     "execution_count": 478,
     "metadata": {},
     "output_type": "execute_result"
    }
   ],
   "source": [
    "## Feature Importances\n",
    "FeatureImp['Importance'] = clf.feature_importances_\n",
    "FeatureImp.sort(['Importance'],ascending = False)"
   ]
  },
  {
   "cell_type": "code",
   "execution_count": 479,
   "metadata": {
    "collapsed": false
   },
   "outputs": [
    {
     "name": "stdout",
     "output_type": "stream",
     "text": [
      "0.81712193155\n"
     ]
    }
   ],
   "source": [
    "print (np.mean(cross_val_score(clf, train, targets, cv = 5)))"
   ]
  },
  {
   "cell_type": "code",
   "execution_count": 480,
   "metadata": {
    "collapsed": true
   },
   "outputs": [],
   "source": [
    "## Creating Prediction File\n",
    "pred = clf.predict(test)\n",
    "dfPred['Survived'] = pd.DataFrame(pred)\n",
    "dfPred.to_csv('mySubmission.csv', index=False)"
   ]
  },
  {
   "cell_type": "code",
   "execution_count": null,
   "metadata": {
    "collapsed": true
   },
   "outputs": [],
   "source": []
  },
  {
   "cell_type": "code",
   "execution_count": null,
   "metadata": {
    "collapsed": false
   },
   "outputs": [],
   "source": []
  },
  {
   "cell_type": "code",
   "execution_count": null,
   "metadata": {
    "collapsed": true
   },
   "outputs": [],
   "source": []
  }
 ],
 "metadata": {
  "anaconda-cloud": {},
  "kernelspec": {
   "display_name": "Python [conda root]",
   "language": "python",
   "name": "conda-root-py"
  },
  "language_info": {
   "codemirror_mode": {
    "name": "ipython",
    "version": 3
   },
   "file_extension": ".py",
   "mimetype": "text/x-python",
   "name": "python",
   "nbconvert_exporter": "python",
   "pygments_lexer": "ipython3",
   "version": "3.5.2"
  }
 },
 "nbformat": 4,
 "nbformat_minor": 1
}
